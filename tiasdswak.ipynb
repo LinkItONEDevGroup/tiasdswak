{
 "cells": [
  {
   "cell_type": "markdown",
   "id": "0f803608",
   "metadata": {},
   "source": [
    "# 台灣外來入侵種資料集 工具箱\n",
    "\n",
    "V0.1"
   ]
  },
  {
   "cell_type": "markdown",
   "id": "0a4d04c7",
   "metadata": {},
   "source": [
    "## Init All "
   ]
  },
  {
   "cell_type": "code",
   "execution_count": 3,
   "id": "74a7238b",
   "metadata": {},
   "outputs": [
    {
     "name": "stdout",
     "output_type": "stream",
     "text": [
      "TiasdSWAK-V0.1\n"
     ]
    }
   ],
   "source": [
    "from tiasdswak import *\n",
    "from codes.lib import *\n",
    "\n",
    "tiasdswak = TiasdSwak()\n",
    "\n",
    "df_standard = tiasdswak.df_standard # 政府資料\n",
    "df_append = tiasdswak.df_append # 民間資料庫\n",
    "df_extend = tiasdswak.df_extend # 補充資料\n",
    "df_mix = tiasdswak.df_mix # 政府+民間\n",
    "df_merge = tiasdswak.df_merge # 政府+民間+補充\n",
    "df_cur = tiasdswak.df_cur # 目前查詢結果\n",
    "df_dig = tiasdswak.df_dig # 分析\n"
   ]
  },
  {
   "cell_type": "code",
   "execution_count": null,
   "id": "f8670dc6",
   "metadata": {},
   "outputs": [],
   "source": [
    "#df_dig['new']=1\n",
    "#df_dig\n",
    "#print(\"\\n\".join(list(df_merge.columns)))\n",
    "\n",
    "#str1=\"','\".join(tiasdswak.group['十大外來入侵物種'])\n",
    "#str2=\"'%s'\" %(str1)\n",
    "#str2\n",
    "\n",
    "#sql=\"select * from df\"\n",
    "#df1=sqldf(df_merge,sql)\n",
    "\n",
    "#df_cur['name_code'].tolist()\n",
    "#grp_info={\"大花咸豐草\":\"9164c378-ef51-4423-a166-1a979c73a97d\"}\n",
    "#grp_info={\"中國梨木蝨\":\"f7d026a6-719c-4c1b-ac04-f9e18b0a8abb\"}\n",
    "if 0:\n",
    "    #df.to_csv(\"output/tbn_save.csv\",index=False)\n",
    "    df_merge.to_csv(\"output/台灣外來入侵種資料集 - 合併補充資料集.csv\",index=False)\n",
    "    \n",
    "df_merge"
   ]
  },
  {
   "cell_type": "code",
   "execution_count": null,
   "id": "3ca23bf7",
   "metadata": {},
   "outputs": [],
   "source": []
  },
  {
   "cell_type": "markdown",
   "id": "5ada5beb",
   "metadata": {},
   "source": [
    "## MIX "
   ]
  },
  {
   "cell_type": "code",
   "execution_count": null,
   "id": "fefa4f97",
   "metadata": {},
   "outputs": [],
   "source": [
    "df_mix = df_standard\n",
    "for row in df_append.iterrows():\n",
    "    name_code = str(row[1]['name_code'])\n",
    "    print(name_code)\n",
    "    name_code_values=df_mix[df_mix['name_code']==name_code]['name_code'].values.tolist()\n",
    "    if len(name_code_values) > 0: #delete match row\n",
    "        print(\"%s exist!\" %(name_code))\n",
    "        idx=df_mix.index[df_mix['name_code']==name_code].tolist()\n",
    "        df_mix.drop(idx, axis=0, inplace=True) \n",
    "df_mix=df_mix[df_mix['is_invasive']==1].append(df_append[df_append['is_invasive']==1])\n"
   ]
  },
  {
   "cell_type": "markdown",
   "id": "19505ce9",
   "metadata": {},
   "source": [
    "## MERGE "
   ]
  },
  {
   "cell_type": "code",
   "execution_count": null,
   "id": "3f17156a",
   "metadata": {},
   "outputs": [],
   "source": [
    "df_extend = df_extend.astype({'name_code':'str'})\n",
    "df_merge = df_mix.join(df_extend.set_index('name_code'),on='name_code',how='outer',lsuffix='L',rsuffix='R')\n",
    "#df_merge.to_csv(\"/Users/wuulong/prg/tiasdswak/include/台灣外來入侵種資料庫補充資料集 - 合併補充資料集.csv\",index=False)"
   ]
  },
  {
   "cell_type": "code",
   "execution_count": null,
   "id": "469eb3bb",
   "metadata": {},
   "outputs": [],
   "source": [
    "results=[]\n",
    "for row in df_merge.iterrows():\n",
    "    common_name_c = str(row[1]['common_name_c'])\n",
    "    name_code = str(row[1]['name_code'])\n",
    "    print(\"common_name_c=%s,name_code=%s\" %(common_name_c,name_code))\n",
    "    [taxonUUID,total]=getcnt_by_namecode(name_code)\n",
    "    result=[common_name_c,name_code,taxonUUID,total]\n",
    "    print(result)\n",
    "    results.append(result)"
   ]
  },
  {
   "cell_type": "code",
   "execution_count": null,
   "id": "d10fc80b",
   "metadata": {},
   "outputs": [],
   "source": [
    "for result in results:\n",
    "    print(\"%s,%s,%s,%s\" %(result[0],result[1],result[2],result[3]))"
   ]
  },
  {
   "cell_type": "markdown",
   "id": "d906d88a",
   "metadata": {},
   "source": [
    "# 多選展開"
   ]
  },
  {
   "cell_type": "code",
   "execution_count": null,
   "id": "f2bf775c",
   "metadata": {},
   "outputs": [],
   "source": [
    "# 多選展開\n",
    "# ex: 都市區, 農業區\n",
    "col_sel=['棲地類型Habitat types','類別Life form types']\n",
    "\n",
    "def multisel_expand(df,col_sel):\n",
    "    results = []\n",
    "    for col_name in col_sel:\n",
    "        df_col=df[col_name]\n",
    "        cells = df_col[df_col.notna()].tolist()\n",
    "        for cell in cells:\n",
    "            values = cell.split(\",\")\n",
    "            values = list(map(str.strip,values))\n",
    "            for v in values:\n",
    "                result = [col_name,v]\n",
    "                results.append(result)\n",
    "    return results\n",
    "\n",
    "results = multisel_expand(df_extend,col_sel)\n",
    "\n",
    "for r in results:\n",
    "    print(\"%s,%s\" %(r[0],r[1]))"
   ]
  },
  {
   "cell_type": "markdown",
   "id": "0e9dbe49",
   "metadata": {},
   "source": [
    "# 多選項目編碼"
   ]
  },
  {
   "cell_type": "code",
   "execution_count": null,
   "id": "6de80c46",
   "metadata": {},
   "outputs": [],
   "source": [
    "items_str=\"\"\"具入侵性\n",
    "不具入侵性\n",
    "無特定說明\n",
    "不確定\n",
    "\n",
    "\n",
    "\"\"\"\n",
    "\n"
   ]
  },
  {
   "cell_type": "code",
   "execution_count": null,
   "id": "88b21e6d",
   "metadata": {},
   "outputs": [],
   "source": [
    "items = items_str.split(\"\\n\")\n",
    "i=1\n",
    "for item in items:\n",
    "    if len(item)>0:\n",
    "        cols=item.split(\"-\")\n",
    "        if len(cols)==2:\n",
    "            print(\"%i-%s\" %(i,cols[1].strip()))\n",
    "        else:\n",
    "            print(\"%i-%s\" %(i,item.strip()))\n",
    "        i+=1"
   ]
  },
  {
   "cell_type": "code",
   "execution_count": null,
   "id": "06b7dc10",
   "metadata": {},
   "outputs": [],
   "source": [
    "txt=\"\"\"BaseElevation(基準高)、County(縣市名稱)、CountyIdentifier(縣市代碼)、DisuseDate(廢站日期)、EstablishDate(設站日期)、FinishDate(完鑿日期)、FinishDepth(完鑿深度)、GroundHeight(距地面高)、GroundwaterLayerCode(地下水分層代碼)、GroundwaterZone(地下水分區名稱)、GroundwaterZoneIdentifier(地下水分區代碼)、Identifier(井號)、LayerAttribute(含水層屬性，C為受壓 L為漏壓 U為自由)、LocationAddress(站址)、LocationByTWD67(TM2度分帶67坐標)、LocationByTWD97(TM2度分帶97座標，TM2度分帶97坐標)、ModificationDate(異動日期)、ModificationReason(異動別，1為設站 2為遷站 3為撤站 4為站況異動 5為其他異動 6為復站)、OrganizationIdentifier(管理單位代碼)、PipeMaterial(井管材質，1為不鏽鋼管 2為PVC4 3為鍍鋅鋼管 4為鋼管 5為鐵管 6為塑膠管 7為黑鐵管)、Remarks(備註)、StartDateOfWaterLevelObservation(水位開始觀測日期)、Town(鄉鎮名稱)、TownIdentifier(鄉鎮代碼)、WaterLevel(水位高)、WaterResourcesDistrictName(水資源分區名稱)、WellDepth(井深)、WellElevation(目前井頂高)、WellName(井名稱)、WellNumber(孔數)、WellRadius(井徑)、WellType(井別)\"\"\"\n",
    "cols=txt.split('、')\n",
    "for col in cols:\n",
    "    print(col.strip().replace(\" \",\"\"))"
   ]
  },
  {
   "cell_type": "markdown",
   "id": "8adc7eb1",
   "metadata": {},
   "source": [
    "# Generate Report"
   ]
  },
  {
   "cell_type": "code",
   "execution_count": null,
   "id": "3af84e98",
   "metadata": {},
   "outputs": [],
   "source": [
    "\n",
    "def rpt_gen(df_rows):\n",
    "    lines=[]\n",
    "    for row in df_rows.iterrows():\n",
    "        name_code = str(row[1]['name_code'])\n",
    "        common_name_c = str(row[1]['common_name_c'])\n",
    "        print(\"# %s (%s)\" % (name_code,common_name_c))\n",
    "        row1 = row[1]\n",
    "        print(\"| 欄位名稱 | 欄位值 |\")\n",
    "        print(\"| ------------- |:-------------|\")\n",
    "        for i in range(len(row1.index)):\n",
    "            if str(row1.values[i]).find(\"\\n\")>0:\n",
    "                lines.append(\"## %s\" %(row1.index[i]))\n",
    "                lines.append(\"%s\" %(str(row1.values[i]).replace(\"\\n\",\"\\n\\n\")))\n",
    "            #if row1.index[i] not in ('reference','note','dispersal_mechanisms','description.1','summary'):\n",
    "            else:\n",
    "                print(\"| %s | %s |\" %(row1.index[i],row1.values[i]))\n",
    "    for line in lines:\n",
    "        print(line)\n",
    "\n",
    "idx=df_merge.index[df_merge['name_code']=='419665']\n",
    "df_rows = df_merge.loc[idx]\n",
    "rpt_gen(df_rows)"
   ]
  },
  {
   "cell_type": "code",
   "execution_count": null,
   "id": "11f83a81",
   "metadata": {},
   "outputs": [],
   "source": []
  }
 ],
 "metadata": {
  "kernelspec": {
   "display_name": "Python 3 (ipykernel)",
   "language": "python",
   "name": "python3"
  },
  "language_info": {
   "codemirror_mode": {
    "name": "ipython",
    "version": 3
   },
   "file_extension": ".py",
   "mimetype": "text/x-python",
   "name": "python",
   "nbconvert_exporter": "python",
   "pygments_lexer": "ipython3",
   "version": "3.7.13"
  }
 },
 "nbformat": 4,
 "nbformat_minor": 5
}
